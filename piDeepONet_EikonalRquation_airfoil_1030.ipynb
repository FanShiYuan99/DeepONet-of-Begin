{
 "cells": [
  {
   "cell_type": "code",
   "execution_count": 1,
   "metadata": {},
   "outputs": [],
   "source": [
    "import numpy as np\n",
    "import pandas as pd\n",
    "import torch\n",
    "import torch.nn as nn\n",
    "import matplotlib.pyplot as plt\n",
    "from scipy.integrate import solve_ivp\n",
    "import threading\n",
    "from mpl_toolkits.axes_grid1 import make_axes_locatable\n",
    "%matplotlib inline\n",
    "from scipy.interpolate import griddata"
   ]
  },
  {
   "cell_type": "code",
   "execution_count": 2,
   "metadata": {},
   "outputs": [
    {
     "name": "stdout",
     "output_type": "stream",
     "text": [
      "(1552, 100, 2)\n"
     ]
    }
   ],
   "source": [
    "file = r'C:\\Users\\Fan\\JupyterFile\\DeepLearning\\PINNs\\airfoil.npy'\n",
    "data = np.load(file,allow_pickle=True)\n",
    "data = np.array(data)[:,:100,:]\n",
    "print(data.shape)"
   ]
  },
  {
   "cell_type": "code",
   "execution_count": 4,
   "metadata": {},
   "outputs": [
    {
     "data": {
      "image/png": "[encoded data removed]",
      "text/plain": [
       "<Figure size 432x288 with 1 Axes>"
      ]
     },
     "metadata": {
      "needs_background": "light"
     },
     "output_type": "display_data"
    }
   ],
   "source": [
    "plt.plot(data[0][:,0],data[0][:,1])\n",
    "plt.show()"
   ]
  },
  {
   "cell_type": "code",
   "execution_count": 3,
   "metadata": {},
   "outputs": [
    {
     "name": "stdout",
     "output_type": "stream",
     "text": [
      "(100000, 200) (100000, 2) (100000, 1) (500000, 200) (500000, 2) (500000, 1)\n"
     ]
    }
   ],
   "source": [
    "D = data.reshape(-1, 2)\n",
    "mu = D.mean(0)\n",
    "sigma = D.std(0)\n",
    "\n",
    "N_train = 1000\n",
    "P_train = data.shape[1]\n",
    "Q_train = 500\n",
    "\n",
    "dom_coords = np.array([[-3, -3],\n",
    "                       [3,  3]])\n",
    "\n",
    "u_train_list = []\n",
    "y_train_list = []\n",
    "s_train_list = []\n",
    "\n",
    "u_r_train_list = []\n",
    "y_r_train_list = []\n",
    "s_r_train_list = []\n",
    "\n",
    "# Random key\n",
    "np.random.seed(1234)\n",
    "\n",
    "# Create the training data \n",
    "for k in range(N_train):\n",
    "  # Create training data for bcs loss\n",
    "  u = (data[k] - mu) / sigma  # normalize data\n",
    "  u_train = np.tile(u.flatten(), (P_train, 1))  # shape = (P_train, 2 * P_train)\n",
    "\n",
    "  u_train_list.append(u_train)\n",
    "  y_train_list.append(u)\n",
    "  s_train_list.append(np.zeros((P_train, 1)))\n",
    "\n",
    "  # crate training data for physical loss\n",
    "  u_r = np.tile(u.flatten(), (Q_train, 1))  # shape = (Q_train, 2 * P_train)\n",
    "  y_r = dom_coords.min(0) + (dom_coords.max(0) - dom_coords.min(0)) * np.random.uniform(size=(Q_train, 2))\n",
    "  u_r_train_list.append(u_r)\n",
    "  y_r_train_list.append(y_r)\n",
    "  s_r_train_list.append(np.ones((Q_train, 1)))\n",
    "\n",
    "u_train = np.vstack(u_train_list)\n",
    "y_train = np.vstack(y_train_list)\n",
    "s_train = np.vstack(s_train_list)\n",
    "\n",
    "u_r_train = np.vstack(u_r_train_list)\n",
    "y_r_train = np.vstack(y_r_train_list)\n",
    "s_r_train = np.vstack(s_r_train_list)\n",
    "print(u_train.shape,y_train.shape,s_train.shape,u_r_train.shape,y_r_train.shape,s_r_train.shape)"
   ]
  },
  {
   "cell_type": "code",
   "execution_count": 4,
   "metadata": {},
   "outputs": [],
   "source": [
    "class BranchNetwork(nn.Module):\n",
    "    def __init__(self, input_dim, hidden_channle, output_dim):\n",
    "        super(BranchNetwork, self).__init__()\n",
    "        self.activation = nn.Tanh()\n",
    "        self.encodeU = nn.Linear(input_dim, hidden_channle)\n",
    "        self.encodeV = nn.Linear(input_dim, hidden_channle)\n",
    "        self.IN = nn.Linear(input_dim, hidden_channle)\n",
    "        self.weight1 = nn.Linear(hidden_channle, hidden_channle)\n",
    "        self.weight2 = nn.Linear(hidden_channle, hidden_channle)\n",
    "        self.weight3 = nn.Linear(hidden_channle, hidden_channle)\n",
    "        self.weight4 = nn.Linear(hidden_channle, hidden_channle)\n",
    "            \n",
    "        self.out = nn.Linear(hidden_channle, output_dim)\n",
    "    def forward(self, x):\n",
    "        U = self.activation(self.encodeU(x))\n",
    "        V = self.activation(self.encodeV(x))\n",
    "        H1 = self.activation(self.IN(x))\n",
    "        \n",
    "        Z1 = self.activation(self.weight1(H1))\n",
    "        H2 = (1 - Z1) * U + Z1 * V\n",
    "        \n",
    "        Z2 = self.activation(self.weight2(H2))\n",
    "        H3 = (1 - Z2) * U + Z2 * V\n",
    "        \n",
    "        Z3 = self.activation(self.weight3(H3))\n",
    "        H4 = (1 - Z3) * U + Z3 * V\n",
    "        \n",
    "        Z4 = self.activation(self.weight4(H4))\n",
    "        H5 = (1 - Z4) * U + Z4 * V\n",
    "        \n",
    "        x = self.out(H5)\n",
    "        return x\n",
    "\n",
    "class TrunkNetwork(nn.Module):\n",
    "    def __init__(self, input_dim, hidden_channle, output_dim):\n",
    "        super(TrunkNetwork, self).__init__()\n",
    "        self.activation = nn.Tanh()\n",
    "        self.encodeU = nn.Linear(input_dim, hidden_channle)\n",
    "        self.encodeV = nn.Linear(input_dim, hidden_channle)\n",
    "        self.IN = nn.Linear(input_dim, hidden_channle)\n",
    "        self.weight1 = nn.Linear(hidden_channle, hidden_channle)\n",
    "        self.weight2 = nn.Linear(hidden_channle, hidden_channle)\n",
    "        self.weight3 = nn.Linear(hidden_channle, hidden_channle)\n",
    "        self.weight4 = nn.Linear(hidden_channle, hidden_channle)\n",
    "            \n",
    "        self.out = nn.Linear(hidden_channle, output_dim)\n",
    "    def forward(self, x):\n",
    "        U = self.activation(self.encodeU(x))\n",
    "        V = self.activation(self.encodeV(x))\n",
    "        H1 = self.activation(self.IN(x))\n",
    "        \n",
    "        Z1 = self.activation(self.weight1(H1))\n",
    "        H2 = (1 - Z1) * U + Z1 * V\n",
    "        \n",
    "        Z2 = self.activation(self.weight2(H2))\n",
    "        H3 = (1 - Z2) * U + Z2 * V\n",
    "        \n",
    "        Z3 = self.activation(self.weight3(H3))\n",
    "        H4 = (1 - Z3) * U + Z3 * V\n",
    "        \n",
    "        Z4 = self.activation(self.weight4(H4))\n",
    "        H5 = (1 - Z4) * U + Z4 * V\n",
    "        \n",
    "        x = self.out(H5)\n",
    "        return x\n",
    "\n",
    "class DeepONet(nn.Module):\n",
    "    def __init__(self, branch_input_dim, trunk_input_dim, hidden_channle, output_dim):\n",
    "        super(DeepONet, self).__init__()\n",
    "        self.branch_net = BranchNetwork(branch_input_dim, hidden_channle, output_dim)\n",
    "        self.trunk_net = TrunkNetwork(trunk_input_dim, hidden_channle, output_dim)\n",
    "\n",
    "    def forward(self, branch_input, trunk_input):\n",
    "        branch_output = self.branch_net(branch_input)\n",
    "        trunk_output = self.trunk_net(trunk_input)\n",
    "        \n",
    "        s = torch.sum(branch_output * trunk_output, axis=1)\n",
    "        return s.view(-1,1)"
   ]
  },
  {
   "cell_type": "code",
   "execution_count": 5,
   "metadata": {},
   "outputs": [],
   "source": [
    "def Res_loss(u_r, y1, y2, s_r):\n",
    "    s_pred = model(u_r, torch.hstack((y1,y2)))\n",
    "    s_y1 = torch.autograd.grad(s_pred, y1, torch.ones_like(s_pred), retain_graph=True, create_graph=True)[0]\n",
    "    s_y2 = torch.autograd.grad(s_pred, y2, torch.ones_like(s_pred), retain_graph=True, create_graph=True)[0]\n",
    "    f = s_y1**2 + s_y2**2 - 1\n",
    "    return torch.mean(f**2)\n",
    "    \n",
    "def Bcs_loss(u, y, s):\n",
    "    s_pred = model(u, y)\n",
    "    return torch.mean(s_pred**2)\n",
    "\n",
    "def Loss(u, y, s, u_r, y_r, s_r):\n",
    "    y1 = y_r[:,0].reshape(-1,1)\n",
    "    y2 = y_r[:,1].reshape(-1,1)\n",
    "    res_loss = Res_loss(u_r, y1, y2, s_r)\n",
    "    bcs_loss = Bcs_loss(u, y, s)\n",
    "    loss = res_loss + bcs_loss\n",
    "    return loss, res_loss, bcs_loss\n",
    "\n",
    "def get_data(u, y, s, u_r, y_r, s_r, batch_size=10000, batch_size_r=10000):\n",
    "    indices = torch.randint(0, u.size(0), (batch_size,))\n",
    "    indices_r = torch.randint(0, u_r.size(0), (batch_size_r,))\n",
    "    u = u[indices,:]\n",
    "    y = y[indices,:]\n",
    "    s = s[indices,:]\n",
    "    u_r = u_r[indices_r,:]\n",
    "    y_r = y_r[indices_r,:]\n",
    "    s_r = s_r[indices_r,:]\n",
    "    return u, y, s, u_r, y_r, s_r"
   ]
  },
  {
   "cell_type": "code",
   "execution_count": 6,
   "metadata": {},
   "outputs": [
    {
     "name": "stdout",
     "output_type": "stream",
     "text": [
      "[Epoch 1/2000] [loss: 4.315546035766602]\n",
      "[Epoch 101/2000] [loss: 1.3456515073776245]\n",
      "[Epoch 201/2000] [loss: 0.8910576701164246]\n",
      "[Epoch 301/2000] [loss: 0.7273108959197998]\n",
      "[Epoch 401/2000] [loss: 0.584951639175415]\n",
      "[Epoch 501/2000] [loss: 0.5580071210861206]\n",
      "[Epoch 601/2000] [loss: 0.5228941440582275]\n",
      "[Epoch 701/2000] [loss: 0.4671890139579773]\n",
      "[Epoch 801/2000] [loss: 0.44749361276626587]\n",
      "[Epoch 901/2000] [loss: 0.43203604221343994]\n",
      "[Epoch 1001/2000] [loss: 0.4186515808105469]\n",
      "[Epoch 1101/2000] [loss: 0.4013140797615051]\n",
      "[Epoch 1201/2000] [loss: 0.39476585388183594]\n",
      "[Epoch 1301/2000] [loss: 0.38631150126457214]\n",
      "[Epoch 1401/2000] [loss: 0.37484878301620483]\n",
      "[Epoch 1501/2000] [loss: 0.37177523970603943]\n",
      "[Epoch 1601/2000] [loss: 0.3655472695827484]\n",
      "[Epoch 1701/2000] [loss: 0.3656615912914276]\n",
      "[Epoch 1801/2000] [loss: 0.35758453607559204]\n",
      "[Epoch 1901/2000] [loss: 0.35630735754966736]\n"
     ]
    },
    {
     "data": {
      "image/png": "[encoded data removed]",
      "text/plain": [
       "<Figure size 432x288 with 1 Axes>"
      ]
     },
     "metadata": {
      "needs_background": "light"
     },
     "output_type": "display_data"
    },
    {
     "data": {
      "image/png": "[encoded data removed]",
      "text/plain": [
       "<Figure size 432x288 with 1 Axes>"
      ]
     },
     "metadata": {
      "needs_background": "light"
     },
     "output_type": "display_data"
    }
   ],
   "source": [
    "u = torch.tensor(u_train, dtype=torch.float32, requires_grad=True)\n",
    "y = torch.tensor(y_train, dtype=torch.float32, requires_grad=True)\n",
    "s = torch.tensor(s_train, dtype=torch.float32, requires_grad=True)\n",
    "u_r = torch.tensor(u_r_train, dtype=torch.float32, requires_grad=True)\n",
    "y_r = torch.tensor(y_r_train, dtype=torch.float32, requires_grad=True)\n",
    "s_r = torch.tensor(s_r_train, dtype=torch.float32, requires_grad=True)\n",
    "\n",
    "\n",
    "model = DeepONet(2 * P_train, 2, 100, 100)\n",
    "loss_fn = nn.MSELoss()\n",
    "optimizer = torch.optim.Adam(model.parameters(), lr=0.01)\n",
    "scheduler = torch.optim.lr_scheduler.StepLR(optimizer, step_size=400, gamma=0.5)\n",
    "epochs = 2000\n",
    "Losses = []\n",
    "Res_Loss = []\n",
    "Bcs_Loss = []\n",
    "\n",
    "for epoch in range(epochs):\n",
    "    optimizer.zero_grad()\n",
    "    \n",
    "    loss, res_loss, bcs_loss = Loss(*get_data(u, y, s, u_r, y_r, s_r))\n",
    "    loss.backward()\n",
    "    \n",
    "    if epoch % 100 == 0:\n",
    "        print(f\"[Epoch {epoch+1}/{epochs}] [loss: {loss.item()}]\")\n",
    "        \n",
    "    Losses.append(loss.item())\n",
    "    Res_Loss.append(res_loss.item())\n",
    "    Bcs_Loss.append(bcs_loss.item())\n",
    "    optimizer.step()\n",
    "    scheduler.step()\n",
    "plt.plot(Losses, label = 'Loss')\n",
    "plt.plot(Bcs_Loss, label = 'Bcs_Loss')\n",
    "plt.plot(Res_Loss, label = 'Res_Loss')\n",
    "plt.legend()\n",
    "plt.show()\n",
    "plt.plot(np.log(Losses), label = 'log(Loss)')\n",
    "plt.plot(np.log(Bcs_Loss), label = 'log(Bcs_Loss)')\n",
    "plt.plot(np.log(Res_Loss), label = 'log(Res_Loss)')\n",
    "plt.legend()\n",
    "plt.show()"
   ]
  },
  {
   "cell_type": "code",
   "execution_count": 11,
   "metadata": {},
   "outputs": [
    {
     "data": {
      "image/png": "[encoded data removed]",
      "text/plain": [
       "<Figure size 360x360 with 1 Axes>"
      ]
     },
     "metadata": {
      "needs_background": "light"
     },
     "output_type": "display_data"
    }
   ],
   "source": [
    "xx = np.linspace(-3,3,100)\n",
    "yy = np.linspace(-3,3,100)\n",
    "X, Y = np.meshgrid(xx, yy)\n",
    "y_test = torch.tensor(np.hstack((X.reshape(-1,1), Y.reshape(-1,1))), dtype = torch.float32)\n",
    "idx = 0\n",
    "s_pre = model(u[idx,:].reshape(1,-1), y_test).detach().numpy()\n",
    "\n",
    "fig = plt.figure(figsize=(5,5))\n",
    "plt.pcolor(xx, yy, s_pre.reshape(100,100))\n",
    "plt.scatter(u[idx,:][::2].detach().numpy(),u[idx,:][1::2].detach().numpy())\n",
    "plt.xlabel('X')\n",
    "plt.ylabel('Y')\n",
    "plt.tight_layout()\n",
    "plt.show()"
   ]
  },
  {
   "cell_type": "code",
   "execution_count": null,
   "metadata": {},
   "outputs": [],
   "source": []
  },
  {
   "cell_type": "code",
   "execution_count": null,
   "metadata": {},
   "outputs": [],
   "source": []
  }
 ],
 "metadata": {
  "kernelspec": {
   "display_name": "Python 3",
   "language": "python",
   "name": "python3"
  },
  "language_info": {
   "codemirror_mode": {
    "name": "ipython",
    "version": 3
   },
   "file_extension": ".py",
   "mimetype": "text/x-python",
   "name": "python",
   "nbconvert_exporter": "python",
   "pygments_lexer": "ipython3",
   "version": "3.7.0"
  }
 },
 "nbformat": 4,
 "nbformat_minor": 2
}
